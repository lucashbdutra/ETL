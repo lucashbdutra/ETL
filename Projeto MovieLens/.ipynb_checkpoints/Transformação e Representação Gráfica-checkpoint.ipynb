{
 "cells": [
  {
   "cell_type": "code",
   "execution_count": 1,
   "id": "57696d70-c95f-4e3c-a345-d82862fbb53a",
   "metadata": {},
   "outputs": [],
   "source": [
    "import pandas as pd"
   ]
  },
  {
   "cell_type": "code",
   "execution_count": 2,
   "id": "64728323-090f-4559-9aee-87dcc82850b5",
   "metadata": {},
   "outputs": [],
   "source": [
    "notas = \"./ratings.csv\"\n",
    "filmes = \"./movies.csv\"\n",
    "dfFilmes = pd.read_csv(filmes)\n",
    "dfNotas = pd.read_csv(notas)"
   ]
  },
  {
   "cell_type": "code",
   "execution_count": 3,
   "id": "aa606c1e-d1b9-4f8a-aa79-45b9b4ffb6ad",
   "metadata": {},
   "outputs": [
    {
     "data": {
      "text/plain": [
       "userId       0\n",
       "movieId      0\n",
       "rating       0\n",
       "timestamp    0\n",
       "dtype: int64"
      ]
     },
     "execution_count": 3,
     "metadata": {},
     "output_type": "execute_result"
    }
   ],
   "source": [
    "dfFilmes.isnull().sum()\n",
    "dfNotas.isnull().sum()\n",
    "dfFilmes.isna().sum()\n",
    "dfNotas.isna().sum() #verificando se existe valor NA ou NULL nas tabelas"
   ]
  },
  {
   "cell_type": "code",
   "execution_count": 4,
   "id": "1e84ba2a-6c4a-4684-88cd-35df3c2c09eb",
   "metadata": {},
   "outputs": [
    {
     "data": {
      "text/html": [
       "<div>\n",
       "<style scoped>\n",
       "    .dataframe tbody tr th:only-of-type {\n",
       "        vertical-align: middle;\n",
       "    }\n",
       "\n",
       "    .dataframe tbody tr th {\n",
       "        vertical-align: top;\n",
       "    }\n",
       "\n",
       "    .dataframe thead th {\n",
       "        text-align: right;\n",
       "    }\n",
       "</style>\n",
       "<table border=\"1\" class=\"dataframe\">\n",
       "  <thead>\n",
       "    <tr style=\"text-align: right;\">\n",
       "      <th></th>\n",
       "      <th>userId</th>\n",
       "      <th>movieId</th>\n",
       "      <th>rating</th>\n",
       "      <th>timestamp</th>\n",
       "    </tr>\n",
       "  </thead>\n",
       "  <tbody>\n",
       "    <tr>\n",
       "      <th>count</th>\n",
       "      <td>100836.000000</td>\n",
       "      <td>100836.000000</td>\n",
       "      <td>100836.000000</td>\n",
       "      <td>1.008360e+05</td>\n",
       "    </tr>\n",
       "    <tr>\n",
       "      <th>mean</th>\n",
       "      <td>326.127564</td>\n",
       "      <td>19435.295718</td>\n",
       "      <td>3.501557</td>\n",
       "      <td>1.205946e+09</td>\n",
       "    </tr>\n",
       "    <tr>\n",
       "      <th>std</th>\n",
       "      <td>182.618491</td>\n",
       "      <td>35530.987199</td>\n",
       "      <td>1.042529</td>\n",
       "      <td>2.162610e+08</td>\n",
       "    </tr>\n",
       "    <tr>\n",
       "      <th>min</th>\n",
       "      <td>1.000000</td>\n",
       "      <td>1.000000</td>\n",
       "      <td>0.500000</td>\n",
       "      <td>8.281246e+08</td>\n",
       "    </tr>\n",
       "    <tr>\n",
       "      <th>25%</th>\n",
       "      <td>177.000000</td>\n",
       "      <td>1199.000000</td>\n",
       "      <td>3.000000</td>\n",
       "      <td>1.019124e+09</td>\n",
       "    </tr>\n",
       "    <tr>\n",
       "      <th>50%</th>\n",
       "      <td>325.000000</td>\n",
       "      <td>2991.000000</td>\n",
       "      <td>3.500000</td>\n",
       "      <td>1.186087e+09</td>\n",
       "    </tr>\n",
       "    <tr>\n",
       "      <th>75%</th>\n",
       "      <td>477.000000</td>\n",
       "      <td>8122.000000</td>\n",
       "      <td>4.000000</td>\n",
       "      <td>1.435994e+09</td>\n",
       "    </tr>\n",
       "    <tr>\n",
       "      <th>max</th>\n",
       "      <td>610.000000</td>\n",
       "      <td>193609.000000</td>\n",
       "      <td>5.000000</td>\n",
       "      <td>1.537799e+09</td>\n",
       "    </tr>\n",
       "  </tbody>\n",
       "</table>\n",
       "</div>"
      ],
      "text/plain": [
       "              userId        movieId         rating     timestamp\n",
       "count  100836.000000  100836.000000  100836.000000  1.008360e+05\n",
       "mean      326.127564   19435.295718       3.501557  1.205946e+09\n",
       "std       182.618491   35530.987199       1.042529  2.162610e+08\n",
       "min         1.000000       1.000000       0.500000  8.281246e+08\n",
       "25%       177.000000    1199.000000       3.000000  1.019124e+09\n",
       "50%       325.000000    2991.000000       3.500000  1.186087e+09\n",
       "75%       477.000000    8122.000000       4.000000  1.435994e+09\n",
       "max       610.000000  193609.000000       5.000000  1.537799e+09"
      ]
     },
     "execution_count": 4,
     "metadata": {},
     "output_type": "execute_result"
    }
   ],
   "source": [
    "dfNotas.describe() #POdemos com o describe pegar alguns valores importantes como a média, a mediana e a contagem."
   ]
  },
  {
   "cell_type": "code",
   "execution_count": 5,
   "id": "c9f75cd4-acc4-45ea-8548-b2f525626b44",
   "metadata": {},
   "outputs": [
    {
     "data": {
      "text/html": [
       "<div>\n",
       "<style scoped>\n",
       "    .dataframe tbody tr th:only-of-type {\n",
       "        vertical-align: middle;\n",
       "    }\n",
       "\n",
       "    .dataframe tbody tr th {\n",
       "        vertical-align: top;\n",
       "    }\n",
       "\n",
       "    .dataframe thead th {\n",
       "        text-align: right;\n",
       "    }\n",
       "</style>\n",
       "<table border=\"1\" class=\"dataframe\">\n",
       "  <thead>\n",
       "    <tr style=\"text-align: right;\">\n",
       "      <th></th>\n",
       "      <th>movieId</th>\n",
       "    </tr>\n",
       "  </thead>\n",
       "  <tbody>\n",
       "    <tr>\n",
       "      <th>count</th>\n",
       "      <td>9742.000000</td>\n",
       "    </tr>\n",
       "    <tr>\n",
       "      <th>mean</th>\n",
       "      <td>42200.353623</td>\n",
       "    </tr>\n",
       "    <tr>\n",
       "      <th>std</th>\n",
       "      <td>52160.494854</td>\n",
       "    </tr>\n",
       "    <tr>\n",
       "      <th>min</th>\n",
       "      <td>1.000000</td>\n",
       "    </tr>\n",
       "    <tr>\n",
       "      <th>25%</th>\n",
       "      <td>3248.250000</td>\n",
       "    </tr>\n",
       "    <tr>\n",
       "      <th>50%</th>\n",
       "      <td>7300.000000</td>\n",
       "    </tr>\n",
       "    <tr>\n",
       "      <th>75%</th>\n",
       "      <td>76232.000000</td>\n",
       "    </tr>\n",
       "    <tr>\n",
       "      <th>max</th>\n",
       "      <td>193609.000000</td>\n",
       "    </tr>\n",
       "  </tbody>\n",
       "</table>\n",
       "</div>"
      ],
      "text/plain": [
       "             movieId\n",
       "count    9742.000000\n",
       "mean    42200.353623\n",
       "std     52160.494854\n",
       "min         1.000000\n",
       "25%      3248.250000\n",
       "50%      7300.000000\n",
       "75%     76232.000000\n",
       "max    193609.000000"
      ]
     },
     "execution_count": 5,
     "metadata": {},
     "output_type": "execute_result"
    }
   ],
   "source": [
    "dfFilmes.describe()"
   ]
  },
  {
   "cell_type": "code",
   "execution_count": 6,
   "id": "c4e4d821",
   "metadata": {},
   "outputs": [],
   "source": [
    "dfGenero = dfFilmes.join(dfFilmes[\"genres\"].str.get_dummies()).drop(\"genres\", axis = 1)"
   ]
  },
  {
   "cell_type": "code",
   "execution_count": 7,
   "id": "5f230c4d",
   "metadata": {},
   "outputs": [
    {
     "name": "stderr",
     "output_type": "stream",
     "text": [
      "/tmp/ipykernel_9315/3755772257.py:1: FutureWarning: Dropping of nuisance columns in DataFrame reductions (with 'numeric_only=None') is deprecated; in a future version this will raise TypeError.  Select only valid columns before calling the reduction.\n",
      "  mediaGenero = dfGenero.mean(numeric_only=None)\n"
     ]
    }
   ],
   "source": [
    "mediaGenero = dfGenero.mean(numeric_only=None)"
   ]
  },
  {
   "cell_type": "code",
   "execution_count": 8,
   "id": "0c65042d-0e45-478a-a912-27b71064c054",
   "metadata": {},
   "outputs": [],
   "source": [
    "media = dfNotas.rating.mean().round(1) #Essa é a média de todas as notas na ordem de acordo com o movieId\n",
    "# E foram arredondadas em apenas 1 casa decimal "
   ]
  },
  {
   "cell_type": "code",
   "execution_count": 9,
   "id": "d62e74b4",
   "metadata": {},
   "outputs": [],
   "source": [
    "arredondadas = dfNotas.rating.round(1)#aqui pegamos todas as notas arredondadas"
   ]
  },
  {
   "cell_type": "code",
   "execution_count": 10,
   "id": "3a23b1f8-c7c8-47d7-b28a-d034826799ad",
   "metadata": {},
   "outputs": [],
   "source": [
    "dfNotas.set_index(\"userId\", inplace=True)\n",
    "dfFilmes.set_index(\"movieId\", inplace=True)"
   ]
  },
  {
   "cell_type": "code",
   "execution_count": 11,
   "id": "32e2764f-911e-4e2a-a744-bbe1108cb4a9",
   "metadata": {},
   "outputs": [],
   "source": [
    "#Pra descobrirmos o melhor filme vamos começar fazendo um filtro que junta todas os filmes com nota == 5\n",
    "filtro = dfNotas.rating == 5\n",
    "soma = dfNotas.loc[filtro] #aplicando o loc com o filtro montamos um novo dt como todos os filmes de nota 5"
   ]
  },
  {
   "cell_type": "code",
   "execution_count": 12,
   "id": "7d5a5bb3-24e7-49b2-b632-78c83e247fdc",
   "metadata": {},
   "outputs": [],
   "source": [
    "#agora com o auxilio de um grouby na coluna \"moviesId\", colocando um sort no fim, podemos vez de forma decrescente qual é o filme que mais recebeu notas 5, nesse caso é o filme com o id 318 que é o filme Shawshank Redemption\n",
    "melhoresFilmes = soma.groupby(\"movieId\").rating.count().dropna().sort_values(ascending=False).head(5)"
   ]
  },
  {
   "cell_type": "raw",
   "id": "ad0d819f",
   "metadata": {},
   "source": [
    "#Agora o pior filme, com o comando abaixo podemos observar que a menor nota é a nota 0.5, e com isso basta agora usar o mesmo comando acima pra ver qual filme recebeu mais notas 0.5\n",
    "dfNotas.rating.sort_values()"
   ]
  },
  {
   "cell_type": "code",
   "execution_count": 13,
   "id": "c0f6049f-ce8b-4fb7-9019-2343ebeda7e0",
   "metadata": {},
   "outputs": [],
   "source": [
    "#Aplicamos novamente um filtro para pegar todas as notas 0.5\n",
    "filtro2 = dfNotas.rating == 0.5\n",
    "meno = dfNotas.loc[filtro2] #Atribuimos a um novo df todos os filmes com nota 0.5"
   ]
  },
  {
   "cell_type": "code",
   "execution_count": 14,
   "id": "1c6dfda0-aae2-42bf-b957-4f2abfcaeb6d",
   "metadata": {},
   "outputs": [],
   "source": [
    "#Novamente fazemos um groupby com movieId pra descobrir qual filme recebeu mais notas 0.5, que é o filme 2683 - Austin Powers: The Spy Who Shagged Me (1999)\n",
    "pioresFilmes = meno.groupby(\"movieId\").rating.count().dropna().sort_values(ascending=False).head(5)"
   ]
  },
  {
   "cell_type": "code",
   "execution_count": 15,
   "id": "028b6788-550a-4f8b-92db-7bdd5df0b411",
   "metadata": {},
   "outputs": [],
   "source": [
    "#Agora vamos fazer o ranking de usuários que mais votaram, com o código abaixo podemos ver que o usuário 414 foi o que mais realizou votações, com 2698 votos\n",
    "votos = dfNotas.groupby(\"userId\").rating.count().dropna().sort_values(ascending=False).head(5)"
   ]
  },
  {
   "cell_type": "code",
   "execution_count": 16,
   "id": "0cd44c36",
   "metadata": {},
   "outputs": [],
   "source": [
    "# A partir daqui vou começar a montar os gráficos para os dados que eu filtrei"
   ]
  },
  {
   "cell_type": "code",
   "execution_count": 17,
   "id": "b26267e0",
   "metadata": {},
   "outputs": [],
   "source": [
    "import matplotlib.pyplot as plt\n",
    "import seaborn as sns"
   ]
  },
  {
   "cell_type": "code",
   "execution_count": 18,
   "id": "a89b075b",
   "metadata": {},
   "outputs": [
    {
     "name": "stderr",
     "output_type": "stream",
     "text": [
      "/home/bartholoseu/.local/lib/python3.9/site-packages/seaborn/_decorators.py:36: FutureWarning: Pass the following variable as a keyword arg: x. From version 0.12, the only valid positional argument will be `data`, and passing other arguments without an explicit keyword will result in an error or misinterpretation.\n",
      "  warnings.warn(\n"
     ]
    },
    {
     "data": {
      "image/png": "[encoded data removed]",
      "text/plain": [
       "<Figure size 432x288 with 1 Axes>"
      ]
     },
     "metadata": {
      "needs_background": "light"
     },
     "output_type": "display_data"
    }
   ],
   "source": [
    "palette = sns.color_palette(\"GnBu_d\", 10)# Definimos uma paleta pra fazer um degradê e melhorar o gráfico\n",
    "sns.countplot(arredondadas, palette=palette) #Aqui temos um representação mais organizada usando a biblioteca seaborn\n",
    "plt.title(\"Distribuição das Notas\");"
   ]
  },
  {
   "cell_type": "code",
   "execution_count": 19,
   "id": "0f14b924",
   "metadata": {},
   "outputs": [],
   "source": [
    "melhores = pd.merge(dfFilmes, melhoresFilmes, how = 'inner', on = 'movieId').head()"
   ]
  },
  {
   "cell_type": "code",
   "execution_count": 20,
   "id": "b568b285",
   "metadata": {},
   "outputs": [
    {
     "data": {
      "text/html": [
       "<div>\n",
       "<style scoped>\n",
       "    .dataframe tbody tr th:only-of-type {\n",
       "        vertical-align: middle;\n",
       "    }\n",
       "\n",
       "    .dataframe tbody tr th {\n",
       "        vertical-align: top;\n",
       "    }\n",
       "\n",
       "    .dataframe thead th {\n",
       "        text-align: right;\n",
       "    }\n",
       "</style>\n",
       "<table border=\"1\" class=\"dataframe\">\n",
       "  <thead>\n",
       "    <tr style=\"text-align: right;\">\n",
       "      <th></th>\n",
       "      <th>Título</th>\n",
       "      <th>Gênero</th>\n",
       "      <th>Melhores Notas</th>\n",
       "    </tr>\n",
       "    <tr>\n",
       "      <th>movieId</th>\n",
       "      <th></th>\n",
       "      <th></th>\n",
       "      <th></th>\n",
       "    </tr>\n",
       "  </thead>\n",
       "  <tbody>\n",
       "    <tr>\n",
       "      <th>318</th>\n",
       "      <td>Shawshank Redemption, The (1994)</td>\n",
       "      <td>Crime|Drama</td>\n",
       "      <td>153</td>\n",
       "    </tr>\n",
       "    <tr>\n",
       "      <th>296</th>\n",
       "      <td>Pulp Fiction (1994)</td>\n",
       "      <td>Comedy|Crime|Drama|Thriller</td>\n",
       "      <td>123</td>\n",
       "    </tr>\n",
       "    <tr>\n",
       "      <th>356</th>\n",
       "      <td>Forrest Gump (1994)</td>\n",
       "      <td>Comedy|Drama|Romance|War</td>\n",
       "      <td>116</td>\n",
       "    </tr>\n",
       "    <tr>\n",
       "      <th>2571</th>\n",
       "      <td>Matrix, The (1999)</td>\n",
       "      <td>Action|Sci-Fi|Thriller</td>\n",
       "      <td>109</td>\n",
       "    </tr>\n",
       "    <tr>\n",
       "      <th>260</th>\n",
       "      <td>Star Wars: Episode IV - A New Hope (1977)</td>\n",
       "      <td>Action|Adventure|Sci-Fi</td>\n",
       "      <td>104</td>\n",
       "    </tr>\n",
       "  </tbody>\n",
       "</table>\n",
       "</div>"
      ],
      "text/plain": [
       "                                            Título  \\\n",
       "movieId                                              \n",
       "318               Shawshank Redemption, The (1994)   \n",
       "296                            Pulp Fiction (1994)   \n",
       "356                            Forrest Gump (1994)   \n",
       "2571                            Matrix, The (1999)   \n",
       "260      Star Wars: Episode IV - A New Hope (1977)   \n",
       "\n",
       "                              Gênero  Melhores Notas  \n",
       "movieId                                               \n",
       "318                      Crime|Drama             153  \n",
       "296      Comedy|Crime|Drama|Thriller             123  \n",
       "356         Comedy|Drama|Romance|War             116  \n",
       "2571          Action|Sci-Fi|Thriller             109  \n",
       "260          Action|Adventure|Sci-Fi             104  "
      ]
     },
     "execution_count": 20,
     "metadata": {},
     "output_type": "execute_result"
    }
   ],
   "source": [
    "melhores.columns = [\"Título\",\"Gênero\",\"Melhores Notas\"]\n",
    "melhores.sort_values(\"Melhores Notas\",ascending=False) # Representação dos 5 melhores filmes"
   ]
  },
  {
   "cell_type": "code",
   "execution_count": 21,
   "id": "6789a568",
   "metadata": {},
   "outputs": [
    {
     "data": {
      "text/plain": [
       "<AxesSubplot:xlabel='Melhores Notas', ylabel='Título'>"
      ]
     },
     "execution_count": 21,
     "metadata": {},
     "output_type": "execute_result"
    },
    {
     "data": {
      "image/png": "[encoded data removed]",
      "text/plain": [
       "<Figure size 432x288 with 1 Axes>"
      ]
     },
     "metadata": {
      "needs_background": "light"
     },
     "output_type": "display_data"
    }
   ],
   "source": [
    "sns.pointplot(x = \"Melhores Notas\", y = \"Título\", data = melhores) # Os 5 melhores filmes representados em gráfico"
   ]
  },
  {
   "cell_type": "code",
   "execution_count": 22,
   "id": "dfcf65e4",
   "metadata": {},
   "outputs": [],
   "source": [
    "piores = pd.merge(dfFilmes, pioresFilmes, how = 'inner', on = 'movieId').head()"
   ]
  },
  {
   "cell_type": "code",
   "execution_count": 23,
   "id": "e7b90cf8",
   "metadata": {},
   "outputs": [
    {
     "data": {
      "text/html": [
       "<div>\n",
       "<style scoped>\n",
       "    .dataframe tbody tr th:only-of-type {\n",
       "        vertical-align: middle;\n",
       "    }\n",
       "\n",
       "    .dataframe tbody tr th {\n",
       "        vertical-align: top;\n",
       "    }\n",
       "\n",
       "    .dataframe thead th {\n",
       "        text-align: right;\n",
       "    }\n",
       "</style>\n",
       "<table border=\"1\" class=\"dataframe\">\n",
       "  <thead>\n",
       "    <tr style=\"text-align: right;\">\n",
       "      <th></th>\n",
       "      <th>Título</th>\n",
       "      <th>Gênero</th>\n",
       "      <th>Piores Notas</th>\n",
       "    </tr>\n",
       "    <tr>\n",
       "      <th>movieId</th>\n",
       "      <th></th>\n",
       "      <th></th>\n",
       "      <th></th>\n",
       "    </tr>\n",
       "  </thead>\n",
       "  <tbody>\n",
       "    <tr>\n",
       "      <th>2683</th>\n",
       "      <td>Austin Powers: The Spy Who Shagged Me (1999)</td>\n",
       "      <td>Action|Adventure|Comedy</td>\n",
       "      <td>7</td>\n",
       "    </tr>\n",
       "    <tr>\n",
       "      <th>1644</th>\n",
       "      <td>I Know What You Did Last Summer (1997)</td>\n",
       "      <td>Horror|Mystery|Thriller</td>\n",
       "      <td>5</td>\n",
       "    </tr>\n",
       "    <tr>\n",
       "      <th>1732</th>\n",
       "      <td>Big Lebowski, The (1998)</td>\n",
       "      <td>Comedy|Crime</td>\n",
       "      <td>5</td>\n",
       "    </tr>\n",
       "    <tr>\n",
       "      <th>2571</th>\n",
       "      <td>Matrix, The (1999)</td>\n",
       "      <td>Action|Sci-Fi|Thriller</td>\n",
       "      <td>5</td>\n",
       "    </tr>\n",
       "    <tr>\n",
       "      <th>2617</th>\n",
       "      <td>Mummy, The (1999)</td>\n",
       "      <td>Action|Adventure|Comedy|Fantasy|Horror|Thriller</td>\n",
       "      <td>5</td>\n",
       "    </tr>\n",
       "  </tbody>\n",
       "</table>\n",
       "</div>"
      ],
      "text/plain": [
       "                                               Título  \\\n",
       "movieId                                                 \n",
       "2683     Austin Powers: The Spy Who Shagged Me (1999)   \n",
       "1644           I Know What You Did Last Summer (1997)   \n",
       "1732                         Big Lebowski, The (1998)   \n",
       "2571                               Matrix, The (1999)   \n",
       "2617                                Mummy, The (1999)   \n",
       "\n",
       "                                                  Gênero  Piores Notas  \n",
       "movieId                                                                 \n",
       "2683                             Action|Adventure|Comedy             7  \n",
       "1644                             Horror|Mystery|Thriller             5  \n",
       "1732                                        Comedy|Crime             5  \n",
       "2571                              Action|Sci-Fi|Thriller             5  \n",
       "2617     Action|Adventure|Comedy|Fantasy|Horror|Thriller             5  "
      ]
     },
     "execution_count": 23,
     "metadata": {},
     "output_type": "execute_result"
    }
   ],
   "source": [
    "piores.columns = [\"Título\",\"Gênero\",\"Piores Notas\"]\n",
    "piores.sort_values(\"Piores Notas\",ascending=False) #Aqui temos os 5 piores filmes"
   ]
  },
  {
   "cell_type": "code",
   "execution_count": 24,
   "id": "0ba726d1",
   "metadata": {
    "scrolled": true
   },
   "outputs": [
    {
     "data": {
      "text/plain": [
       "<AxesSubplot:xlabel='Piores Notas', ylabel='Título'>"
      ]
     },
     "execution_count": 24,
     "metadata": {},
     "output_type": "execute_result"
    },
    {
     "data": {
      "image/png": "[encoded data removed]",
      "text/plain": [
       "<Figure size 432x288 with 1 Axes>"
      ]
     },
     "metadata": {
      "needs_background": "light"
     },
     "output_type": "display_data"
    }
   ],
   "source": [
    "sns.pointplot(x = \"Piores Notas\", y = \"Título\", data = piores)  # Os 5 piores filmes representados em gráfico"
   ]
  }
 ],
 "metadata": {
  "kernelspec": {
   "display_name": "Python 3 (ipykernel)",
   "language": "python",
   "name": "python3"
  },
  "language_info": {
   "codemirror_mode": {
    "name": "ipython",
    "version": 3
   },
   "file_extension": ".py",
   "mimetype": "text/x-python",
   "name": "python",
   "nbconvert_exporter": "python",
   "pygments_lexer": "ipython3",
   "version": "3.9.7"
  }
 },
 "nbformat": 4,
 "nbformat_minor": 5
}
